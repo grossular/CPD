{
 "cells": [
  {
   "cell_type": "markdown",
   "metadata": {},
   "source": [
    "# TensorFlow code for a Recurrent Neural Network with Sequence Input\n",
    "\n",
    "In this section we will go through the code for a slightly different Recurrent Neural Network in TensorFlow.\n",
    "\n",
    "### The aim of the network\n",
    "\n",
    "For a given a binary string we need to determine the count of 1s in the string. For example, “01010” has 2 ones.\n",
    "\n",
    "The input for our network will be a string of length twenty that contains 0s and 1s and the output will be a single number, between 0 and 20, which represents the number of ones in the string."
   ]
  },
  {
   "cell_type": "markdown",
   "metadata": {},
   "source": [
    "First of all we set up the required imports."
   ]
  },
  {
   "cell_type": "code",
   "execution_count": null,
   "metadata": {},
   "outputs": [],
   "source": [
    "from __future__ import division, print_function, absolute_import\n",
    "import os\n",
    "from time import time\n",
    "from datetime import datetime\n",
    "import numpy as np\n",
    "import random\n",
    "from random import shuffle\n",
    "import tensorflow as tf\n",
    "\n",
    "tf.logging.set_verbosity(tf.logging.ERROR)\n"
   ]
  },
  {
   "cell_type": "markdown",
   "metadata": {},
   "source": [
    "Here are the relevant training and network parameters and graph input for context."
   ]
  },
  {
   "cell_type": "code",
   "execution_count": null,
   "metadata": {},
   "outputs": [],
   "source": [
    "# Training Parameters\n",
    "\n",
    "learning_rate = 0.0001 # Initial learning rate\n",
    "training_epochs = 2500 # Number of epochs to train\n",
    "batch_size = 100 # Number of sequences per batch\n",
    "display_step = 50 # How often to output model metrics during training\n",
    "\n",
    "num_input = 12 # data input length\n",
    "num_hidden = 24 # hidden layer num of features\n",
    "num_classes = num_input + 1 # Number of output classes\n",
    "training_examples = 500 # Number of examples to use for training\n",
    "\n",
    "X = tf.placeholder(\"float\", [None, num_input,1], name='X')\n",
    "Y = tf.placeholder(\"float\", [None, num_classes], name='Y')"
   ]
  },
  {
   "cell_type": "markdown",
   "metadata": {},
   "source": [
    "Generate synthetic data"
   ]
  },
  {
   "cell_type": "code",
   "execution_count": null,
   "metadata": {},
   "outputs": [],
   "source": [
    "train_input = ['{0:0{length}b}'.format(i, length=num_input) for i in range(2**num_input)]\n",
    "shuffle(train_input)\n",
    "train_input = [map(int,i) for i in train_input]\n",
    "ti  = []\n",
    "for i in train_input:\n",
    "    temp_list = []\n",
    "    for j in i:\n",
    "            temp_list.append([j])\n",
    "    ti.append(np.array(temp_list))\n",
    "train_input = ti\n",
    "\n",
    "## Gen train target\n",
    "train_output = []\n",
    "for i in train_input:\n",
    "    count = 0\n",
    "    for j in i:\n",
    "        if j[0] == 1:\n",
    "            count += 1\n",
    "    temp_list = ([0]*num_classes)\n",
    "    temp_list[count] = 1\n",
    "    train_output.append(temp_list)\n",
    "\n",
    "## Train/Test split\n",
    "test_input = train_input[training_examples:]\n",
    "test_output = train_output[training_examples:]\n",
    "train_input = train_input[:training_examples]\n",
    "train_output = train_output[:training_examples]"
   ]
  },
  {
   "cell_type": "markdown",
   "metadata": {},
   "source": [
    "Initialise weights and biases for the network."
   ]
  },
  {
   "cell_type": "code",
   "execution_count": null,
   "metadata": {},
   "outputs": [],
   "source": [
    "weights = tf.Variable(tf.truncated_normal([num_hidden, int(Y.get_shape()[1])]), name='weights')\n",
    "biases = tf.Variable(tf.constant(0.1, shape=[Y.get_shape()[1]]), name='biases')"
   ]
  },
  {
   "cell_type": "markdown",
   "metadata": {},
   "source": [
    "### Model Creation\n",
    "\n",
    "`tf.nn.rnn_cell.LSTMCell` - Default LSTM recurrent network cell.\n",
    "\n",
    "`tf.nn.dynamic_rnn` = Creates a recurrent neural network with the specified RNNCell cell.\n",
    "\n",
    "`tf.transpose` - Transposes a tensor. Permutes the dimensions according to perm.\n",
    "\n",
    "`tf.gather` - Gather slices from params axis axis according to indices"
   ]
  },
  {
   "cell_type": "code",
   "execution_count": null,
   "metadata": {},
   "outputs": [],
   "source": [
    "def RNN(x, weights, biases):\n",
    "\n",
    "    # Define a lstm cell with tensorflow\n",
    "    lstm_cell = tf.nn.rnn_cell.LSTMCell(num_hidden, state_is_tuple=True, name='lstm_cell')\n",
    "\n",
    "    # Get lstm cell output\n",
    "    val, _ = tf.nn.dynamic_rnn(lstm_cell, X, dtype=tf.float32)\n",
    "\n",
    "    # Transpose tensor dimensions\n",
    "    val = tf.transpose(val, perm=[1, 0, 2], name='transpose')\n",
    "\n",
    "    # Gather sparse to dense\n",
    "    last = tf.gather(params=val, indices=tf.Variable(int(val.get_shape()[0]) - 1, name='gather_indices'), name='gather')\n",
    "\n",
    "    # Linear activation, using rnn inner loop last output\n",
    "    return tf.matmul(last, weights, name='out') + biases"
   ]
  },
  {
   "cell_type": "markdown",
   "metadata": {},
   "source": [
    "### Define loss and optimizer\n",
    "\n",
    "In the following snippet we define our loss operation, optimiser and initialise our global variables.\n",
    "\n",
    "`tf.reduce_sum` - Computes the sum of elements across dimensions of a tensor.\n",
    "\n",
    "`tf.train.AdamOptimizer` - Optimizer that implements the Adam algorithm algorithm.\n",
    "\n",
    "`optimizer.minimize` - Takes care of both computing the gradients and applying them with respect to `loss_op`."
   ]
  },
  {
   "cell_type": "code",
   "execution_count": null,
   "metadata": {},
   "outputs": [],
   "source": [
    "logits = RNN(X, weights, biases)\n",
    "prediction = tf.nn.softmax(logits, name='prediction')\n",
    "\n",
    "loss_op = -tf.reduce_sum(Y * tf.log(tf.clip_by_value(prediction,1e-10,1.0)), name='loss_op')\n",
    "optimizer = tf.train.AdamOptimizer(learning_rate=learning_rate)\n",
    "train_op = optimizer.minimize(loss_op, name='train_op')"
   ]
  },
  {
   "cell_type": "markdown",
   "metadata": {},
   "source": [
    "### Define evaluation metrics"
   ]
  },
  {
   "cell_type": "code",
   "execution_count": null,
   "metadata": {},
   "outputs": [],
   "source": [
    "incorrect_pred = tf.not_equal(tf.argmax(Y, 1), tf.argmax(prediction, 1), name='incorrect_pred')\n",
    "error = tf.reduce_mean(tf.cast(incorrect_pred, tf.float32), name='error')"
   ]
  },
  {
   "cell_type": "markdown",
   "metadata": {},
   "source": [
    "Initialize the variables (i.e. assign their default value)"
   ]
  },
  {
   "cell_type": "code",
   "execution_count": null,
   "metadata": {},
   "outputs": [],
   "source": [
    "init = tf.global_variables_initializer()"
   ]
  },
  {
   "cell_type": "markdown",
   "metadata": {},
   "source": [
    "### Setup tensorboard"
   ]
  },
  {
   "cell_type": "code",
   "execution_count": null,
   "metadata": {},
   "outputs": [],
   "source": [
    "# Define writer for tensorbord log output\n",
    "writer = tf.summary.FileWriter(os.path.join(os.getcwd(),\"rnn-seq-tb-\" + str(datetime.fromtimestamp(time())) ), graph=tf.get_default_graph())\n",
    "\n",
    "# Define and name tensorboard histograms\n",
    "tf.summary.histogram(\"loss\", loss_op)\n",
    "tf.summary.histogram(\"error\", error)\n",
    "\n",
    "# Create a summary to monitor cost tensor\n",
    "#tf.summary.scalar(\"loss\", loss_op)\n",
    "# Create a summary to monitor accuracy tensor\n",
    "#tf.summary.scalar(\"error\", error)\n",
    "# Merge all summaries into a single op\n",
    "\n",
    "# Merge all summaries into a single output\n",
    "merged_summary_op = tf.summary.merge_all()"
   ]
  },
  {
   "cell_type": "markdown",
   "metadata": {},
   "source": [
    "### Train and evaluate the model"
   ]
  },
  {
   "cell_type": "code",
   "execution_count": null,
   "metadata": {},
   "outputs": [],
   "source": [
    "from matplotlib import pyplot as plt\n",
    "no_of_batches = int(len(train_input)) // batch_size\n",
    "with tf.Session() as sess:\n",
    "    sess.run(init)\n",
    "    for step in range(training_epochs):\n",
    "        ptr = 0\n",
    "        for j in range(no_of_batches):\n",
    "            inp, out = train_input[ptr:ptr + batch_size], train_output[ptr:ptr + batch_size]\n",
    "            ptr += batch_size\n",
    "            sess.run(train_op, {X: inp, Y: out})\n",
    "        if step % display_step == 0 or step == 1:\n",
    "            # Calculate batch loss and error\n",
    "            loss, err, summary = sess.run([loss_op, error, merged_summary_op], {X: inp, Y: out})\n",
    "            writer.add_summary(summary, step)\n",
    "            \n",
    "            print(\"Step \" + str(step) + \", Minibatch Loss = \" + \\\n",
    "                    \"{:.4f}\".format(loss) + \", Training Error = \" + \\\n",
    "                    \"{:.5f}\".format(err))\n",
    "\n",
    "    print(\"Testing Error:\", \"{:.5f}\".format(sess.run(error,{X: test_input, Y: test_output})))\n",
    "    pred = tf.nn.softmax(logits)\n",
    "    # Build confusion matrix from ground truth labels and model predictions\n",
    "    conf_mat = tf.confusion_matrix(tf.argmax(Y, 1), tf.argmax(pred, 1)).eval({X: test_input, Y: test_output})\n",
    "    %matplotlib inline\n",
    "    # Plot matrix\n",
    "    plt.matshow(conf_mat)\n",
    "    plt.ylabel('Real Class')\n",
    "    plt.xlabel('Predicted Class')\n",
    "    plt.show()\n",
    "    sess.close()"
   ]
  },
  {
   "cell_type": "markdown",
   "metadata": {},
   "source": [
    "### Setup tensorboard using an ngrok tunnel"
   ]
  },
  {
   "cell_type": "code",
   "execution_count": null,
   "metadata": {},
   "outputs": [],
   "source": [
    "import time\n",
    "import subprocess\n",
    "import os\n",
    "import signal\n",
    "\n",
    "def get_process_pid(pstring):\n",
    "    pid = None\n",
    "    for line in os.popen(\"ps ax | grep \" + pstring + \" | grep -v grep | grep -v defunct\"):\n",
    "        fields = line.split()\n",
    "        pid = fields[0]\n",
    "    return pid\n",
    "\n",
    "LOG_DIR = os.getcwd()\n",
    "NG_DIR = LOG_DIR\n",
    "# Uncomment if running locally\n",
    "#NG_DIR = os.path.dirname(LOG_DIR)\n",
    "NG_ZIP = os.path.join(NG_DIR, 'ngrok-stable-linux-amd64.zip')\n",
    "NG_BIN = os.path.join(NG_DIR, 'ngrok')\n",
    "\n",
    "# Download ngrok binary\n",
    "if not os.path.isfile(NG_ZIP):\n",
    "    !wget https://bin.equinox.io/c/4VmDzA7iaHb/ngrok-stable-linux-amd64.zip \\\n",
    "        -P {NG_DIR}\n",
    "if not os.path.isfile(NG_BIN):        \n",
    "    !unzip -o {NG_DIR}/ngrok-stable-linux-amd64.zip -d {NG_DIR}\n",
    "\n",
    "# If tensorboard is alredy running kill it and restart with the correct logdir\n",
    "tb_pid = get_process_pid('tensorboard')\n",
    "if tb_pid:\n",
    "    print(\"Killing old tensorboard\")\n",
    "    os.kill(int(tb_pid), signal.SIGKILL)\n",
    "get_ipython().system_raw(\n",
    "    'tensorboard --logdir {} --host 0.0.0.0 --port 6006 &'\n",
    "    .format(LOG_DIR)\n",
    ")\n",
    "tb_pid = get_process_pid('tensorboard')\n",
    "print (\"Started tensorboard with pid %s\" % tb_pid)\n",
    "\n",
    "# If ngrok is alredy running do nothing\n",
    "ng_pid = get_process_pid('ngrok')\n",
    "if not ng_pid:\n",
    "    proc = subprocess.Popen(['%s/ngrok' % NG_DIR , 'http', '6006'])\n",
    "    print (\"Started ngrok with pid %s\" % proc.pid)\n",
    "    time.sleep(5)\n",
    "else:\n",
    "    print (\"ngrok alredy runing\")\n",
    "ng_pid = get_process_pid('ngrok')\n",
    "\n",
    "# Get ngrok link\n",
    "try:\n",
    "    ! curl -s http://localhost:4040/api/tunnels | python3 -c \\\n",
    "        \"import sys, json; print(json.load(sys.stdin)['tunnels'][0]['public_url'])\"\n",
    "except:\n",
    "    print(\"Error getting ngrok link. Retrying...\")\n",
    "    time.sleep(5)\n",
    "    ! curl -s http://localhost:4040/api/tunnels | python3 -c \\\n",
    "        \"import sys, json; print(json.load(sys.stdin)['tunnels'][0]['public_url'])\""
   ]
  },
  {
   "cell_type": "code",
   "execution_count": null,
   "metadata": {},
   "outputs": [],
   "source": [
    "# Cleanup\n",
    "#procs = [tb_pid, ng_pid]\n",
    "#[os.kill(int(x), signal.SIGKILL) for x in procs if x is not None]\n",
    "#!rm -rf rnn-seq-tb-*"
   ]
  },
  {
   "cell_type": "markdown",
   "metadata": {},
   "source": [
    "### Experiment\n",
    "Now try experimenting with the model. What effects do you see when changing the model parameters?\n",
    " - learning_rate\n",
    " - training_epochs\n",
    " - batch_size\n",
    " - num_hidden\n",
    " - num_input\n",
    " - training_examples\n",
    " \n",
    "Try adding additional LSTM cells to the model.\n",
    " - Hint: Use a stacked cell - ```lstm_cell = rnn.MultiRNNCell( <list_of_lstm_cells> )```"
   ]
  },
  {
   "cell_type": "markdown",
   "metadata": {},
   "source": [
    "## End of RNN-SEQ Notebook"
   ]
  }
 ],
 "metadata": {
  "kernelspec": {
   "display_name": "Python 3",
   "language": "python",
   "name": "python3"
  },
  "language_info": {
   "codemirror_mode": {
    "name": "ipython",
    "version": 3
   },
   "file_extension": ".py",
   "mimetype": "text/x-python",
   "name": "python",
   "nbconvert_exporter": "python",
   "pygments_lexer": "ipython3",
   "version": "3.6.5"
  }
 },
 "nbformat": 4,
 "nbformat_minor": 2
}
