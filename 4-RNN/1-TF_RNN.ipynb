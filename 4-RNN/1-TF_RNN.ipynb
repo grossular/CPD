{
 "cells": [
  {
   "cell_type": "markdown",
   "metadata": {},
   "source": [
    "# TensorFlow code for a Recurrent Neural Network\n",
    "\n",
    "In this section we will go through the code for Recurrent Neural Network in TensorFlow.\n",
    "\n",
    "Built around the implementation by [Aymeric Damien](Built around the implementation by [Aymeric Damien](https://github.com/aymericdamien/TensorFlow-Examples/blob/master/examples/3_NeuralNetworks/convolutional_network.py)"
   ]
  },
  {
   "cell_type": "markdown",
   "metadata": {},
   "source": [
    "First of all we set up the required imports and define the location of the mnist data."
   ]
  },
  {
   "cell_type": "code",
   "execution_count": null,
   "metadata": {},
   "outputs": [],
   "source": [
    "from __future__ import division, print_function, absolute_import\n",
    "import os\n",
    "from time import time\n",
    "from datetime import datetime\n",
    "import tensorflow as tf\n",
    "from tensorflow.contrib import rnn\n",
    "\n",
    "tf.logging.set_verbosity(tf.logging.ERROR)\n",
    "\n",
    "# Import MNIST data\n",
    "from tensorflow.examples.tutorials.mnist import input_data\n",
    "mnist = input_data.read_data_sets(\"../scratch/\", one_hot=True)"
   ]
  },
  {
   "cell_type": "markdown",
   "metadata": {},
   "source": [
    "Here are the relevant training and network parameters and graph input for context. To classify images using a recurrent neural network, we consider every row in the image as a sequence. The MNIST images are 28*28px, so we will process 28 sequences of 28 steps for every sample. "
   ]
  },
  {
   "cell_type": "code",
   "execution_count": null,
   "metadata": {},
   "outputs": [],
   "source": [
    "# Training Parameters\n",
    "learning_rate = 0.001 # Initial learning rate\n",
    "training_epochs = 10000 # Number of epochs to train\n",
    "batch_size = 128 # Number of images per batch\n",
    "display_step = 200 # How often to output model metrics during training\n",
    "\n",
    "# Network Parameters\n",
    "num_input = 28 # data input length (img shape: 28*..)\n",
    "timesteps = 28 # timesteps length (img shape: ..*28)\n",
    "num_hidden = 128 # hidden layer num of features\n",
    "num_classes = 10 # MNIST total classes (0-9 digits)\n",
    "\n",
    "# tf Graph input\n",
    "X = tf.placeholder(\"float\", [None, timesteps, num_input], name='X')\n",
    "Y = tf.placeholder(\"float\", [None, num_classes], name='Y')"
   ]
  },
  {
   "cell_type": "markdown",
   "metadata": {},
   "source": [
    "Initialise weights and biases for the network."
   ]
  },
  {
   "cell_type": "code",
   "execution_count": null,
   "metadata": {},
   "outputs": [],
   "source": [
    "weights = {'out': tf.Variable(tf.random_normal([num_hidden, num_classes]), name='Weights')}\n",
    "biases = {'out': tf.Variable(tf.random_normal([num_classes]), name='Biases')}"
   ]
  },
  {
   "cell_type": "markdown",
   "metadata": {},
   "source": [
    "### Model Creation\n",
    "\n",
    "`tf.unstack` - Re-shapes the input for RNN. Input data shape = (batch_size, timesteps, n_input). Shape required for RNN = List of tensors for each timestep of shape (batch_size, n_input)\n",
    "\n",
    "`rnn.BasicLSTMCell` - Default LSTM recurrent network cell.\n",
    "\n",
    "`rnn.static_rnn` - Defines a recurrent neural network with the specified cell."
   ]
  },
  {
   "cell_type": "code",
   "execution_count": null,
   "metadata": {},
   "outputs": [],
   "source": [
    "def RNN(x, weights, biases):\n",
    "\n",
    "    # Unstack to get a list of 'timesteps' tensors of shape (batch_size, n_input)\n",
    "    x = tf.unstack(x, timesteps, 1)\n",
    "\n",
    "    # Define a lstm cell with tensorflow\n",
    "    lstm_cell = rnn.BasicLSTMCell(num_hidden, forget_bias=1.0, name='lstm_cell')\n",
    "\n",
    "    # Get lstm cell output\n",
    "    outputs, states = rnn.static_rnn(lstm_cell, x, dtype=tf.float32)\n",
    "\n",
    "    # Linear activation, using rnn inner loop last output\n",
    "    return tf.matmul(outputs[-1], weights['out'], name='out') + biases['out']"
   ]
  },
  {
   "cell_type": "markdown",
   "metadata": {},
   "source": [
    "### Define loss and optimizer\n",
    "\n",
    "In the following snippet we define our loss operation, optimiser and initialise our global variables.\n",
    "\n",
    "`tf.reduce_mean` - Computes the mean of elements across dimensions of a tensor.\n",
    "\n",
    "`tf.train.GradientDescentOptimizer` - Optimizer that implements the gradient descent algorithm.\n",
    "\n",
    "`optimizer.minimize` - Takes care of both computing the gradients and applying them with respect to `loss_op`."
   ]
  },
  {
   "cell_type": "code",
   "execution_count": null,
   "metadata": {},
   "outputs": [],
   "source": [
    "logits = RNN(X, weights, biases)\n",
    "prediction = tf.nn.softmax(logits)\n",
    "\n",
    "# Define loss and optimizer\n",
    "loss_op = tf.reduce_mean(tf.nn.softmax_cross_entropy_with_logits(logits=logits, labels=Y), name='loss_op')\n",
    "\n",
    "optimizer = tf.train.GradientDescentOptimizer(learning_rate=learning_rate)\n",
    "\n",
    "train_op = optimizer.minimize(loss_op, name='train_op')"
   ]
  },
  {
   "cell_type": "markdown",
   "metadata": {},
   "source": [
    "### Define evaluation metrics"
   ]
  },
  {
   "cell_type": "code",
   "execution_count": null,
   "metadata": {},
   "outputs": [],
   "source": [
    "correct_pred = tf.equal(tf.argmax(prediction, 1), tf.argmax(Y, 1), name='correct_pred')\n",
    "accuracy = tf.reduce_mean(tf.cast(correct_pred, tf.float32), name='accuracy')"
   ]
  },
  {
   "cell_type": "markdown",
   "metadata": {},
   "source": [
    "Initialize the variables (i.e. assign their default value)"
   ]
  },
  {
   "cell_type": "code",
   "execution_count": null,
   "metadata": {},
   "outputs": [],
   "source": [
    "init = tf.global_variables_initializer()"
   ]
  },
  {
   "cell_type": "markdown",
   "metadata": {},
   "source": [
    "### Setup tensorboard"
   ]
  },
  {
   "cell_type": "code",
   "execution_count": null,
   "metadata": {},
   "outputs": [],
   "source": [
    "# Define writer for tensorbord log output\n",
    "writer = tf.summary.FileWriter(os.path.join(os.getcwd(),\"rnn-tb-\" + str(datetime.fromtimestamp(time())) ), graph=tf.get_default_graph())\n",
    "\n",
    "# Define and name tensorboard histograms\n",
    "tf.summary.histogram(\"loss\", loss_op)\n",
    "tf.summary.histogram(\"accuracy\", accuracy)\n",
    "\n",
    "# Create a summary to monitor cost tensor\n",
    "#tf.summary.scalar(\"loss\", loss_op)\n",
    "# Create a summary to monitor accuracy tensor\n",
    "#tf.summary.scalar(\"accuracy\", accuracy)\n",
    "# Merge all summaries into a single op\n",
    "\n",
    "# Merge all summaries into a single output\n",
    "merged_summary_op = tf.summary.merge_all()"
   ]
  },
  {
   "cell_type": "markdown",
   "metadata": {},
   "source": [
    "### Train and evaluate the model"
   ]
  },
  {
   "cell_type": "code",
   "execution_count": null,
   "metadata": {},
   "outputs": [],
   "source": [
    "from matplotlib import pyplot as plt\n",
    "with tf.Session() as sess:\n",
    "\n",
    "    # Run the initializer\n",
    "    sess.run(init)\n",
    "\n",
    "    for step in range(1, training_epochs+1):\n",
    "        batch_x, batch_y = mnist.train.next_batch(batch_size)\n",
    "        # Reshape data to get 28 seq of 28 elements\n",
    "        batch_x = batch_x.reshape((batch_size, timesteps, num_input))\n",
    "        # Run optimization op (backprop)\n",
    "        sess.run(train_op, feed_dict={X: batch_x, Y: batch_y})\n",
    "        if step % display_step == 0 or step == 1:\n",
    "            # Calculate batch loss and accuracy\n",
    "            loss, acc, summary = sess.run([loss_op, accuracy, merged_summary_op], feed_dict={X: batch_x,\n",
    "                                                                 Y: batch_y})\n",
    "            writer.add_summary(summary, step)\n",
    "            \n",
    "            print(\"Step \" + str(step) + \", Minibatch Loss= \" + \\\n",
    "                  \"{:.4f}\".format(loss) + \", Training Accuracy= \" + \\\n",
    "                  \"{:.3f}\".format(acc))\n",
    "\n",
    "    print(\"Optimization Finished!\")\n",
    "\n",
    "    # Calculate accuracy for 128 mnist test images\n",
    "    test_len = 128\n",
    "    test_data = mnist.test.images[:test_len].reshape((-1, timesteps, num_input))\n",
    "    test_label = mnist.test.labels[:test_len]\n",
    "    print(\"Testing Accuracy:\", \\\n",
    "        sess.run(accuracy, feed_dict={X: test_data, Y: test_label}))\n",
    "    \n",
    "    pred = tf.nn.softmax(logits)\n",
    "    # Build confusion matrix from ground truth labels and model predictions\n",
    "    conf_mat = tf.confusion_matrix(tf.argmax(Y, 1),tf.argmax(pred, 1)).eval({X: test_data, Y: test_label})\n",
    "    #print('Confusion matrix:\\n', conf_mat)\n",
    "    %matplotlib inline\n",
    "    # Plot matrix\n",
    "    plt.matshow(conf_mat)\n",
    "    plt.colorbar()\n",
    "    plt.ylabel('Real Class')\n",
    "    plt.xlabel('Predicted Class')\n",
    "    plt.show()"
   ]
  },
  {
   "cell_type": "markdown",
   "metadata": {},
   "source": [
    "### Setup tensorboard using an ngrok tunnel"
   ]
  },
  {
   "cell_type": "code",
   "execution_count": null,
   "metadata": {},
   "outputs": [],
   "source": [
    "import time\n",
    "import subprocess\n",
    "import os\n",
    "import signal\n",
    "\n",
    "def get_process_pid(pstring):\n",
    "    pid = None\n",
    "    for line in os.popen(\"ps ax | grep \" + pstring + \" | grep -v grep | grep -v defunct\"):\n",
    "        fields = line.split()\n",
    "        pid = fields[0]\n",
    "    return pid\n",
    "\n",
    "LOG_DIR = os.getcwd()\n",
    "NG_DIR = LOG_DIR\n",
    "# Uncomment if running locally\n",
    "NG_DIR = os.path.dirname(LOG_DIR)\n",
    "NG_ZIP = os.path.join(NG_DIR, 'ngrok-stable-linux-amd64.zip')\n",
    "NG_BIN = os.path.join(NG_DIR, 'ngrok')\n",
    "\n",
    "# Download ngrok binary\n",
    "if not os.path.isfile(NG_ZIP):\n",
    "    !wget https://bin.equinox.io/c/4VmDzA7iaHb/ngrok-stable-linux-amd64.zip \\\n",
    "        -P {NG_DIR}\n",
    "if not os.path.isfile(NG_BIN):        \n",
    "    !unzip -o {NG_DIR}/ngrok-stable-linux-amd64.zip -d {NG_DIR}\n",
    "\n",
    "# If tensorboard is alredy running kill it and restart with the correct logdir\n",
    "tb_pid = get_process_pid('tensorboard')\n",
    "if tb_pid:\n",
    "    print(\"Killing old tensorboard\")\n",
    "    os.kill(int(tb_pid), signal.SIGKILL)\n",
    "get_ipython().system_raw(\n",
    "    'tensorboard --logdir {} --host 0.0.0.0 --port 6006 &'\n",
    "    .format(LOG_DIR)\n",
    ")\n",
    "tb_pid = get_process_pid('tensorboard')\n",
    "print (\"Started tensorboard with pid %s\" % tb_pid)\n",
    "\n",
    "# If ngrok is alredy running do nothing\n",
    "ng_pid = get_process_pid('ngrok')\n",
    "if not ng_pid:\n",
    "    proc = subprocess.Popen(['%s/ngrok' % NG_DIR , 'http', '6006'])\n",
    "    print (\"Started ngrok with pid %s\" % proc.pid)\n",
    "    time.sleep(5)\n",
    "else:\n",
    "    print (\"ngrok alredy runing\")\n",
    "ng_pid = get_process_pid('ngrok')\n",
    "\n",
    "# Get ngrok link\n",
    "try:\n",
    "    ! curl -s http://localhost:4040/api/tunnels | python3 -c \\\n",
    "        \"import sys, json; print(json.load(sys.stdin)['tunnels'][0]['public_url'])\"\n",
    "except:\n",
    "    print(\"Error getting ngrok link. Retrying...\")\n",
    "    time.sleep(5)\n",
    "    ! curl -s http://localhost:4040/api/tunnels | python3 -c \\\n",
    "        \"import sys, json; print(json.load(sys.stdin)['tunnels'][0]['public_url'])\""
   ]
  },
  {
   "cell_type": "code",
   "execution_count": null,
   "metadata": {},
   "outputs": [],
   "source": [
    "# Cleanup\n",
    "#procs = [tb_pid, ng_pid]\n",
    "#[os.kill(int(x), signal.SIGKILL) for x in procs if x is not None]\n",
    "#!rm -rf rnn-tb-*"
   ]
  },
  {
   "cell_type": "markdown",
   "metadata": {},
   "source": [
    "### Experiment\n",
    "Now try experimenting with the model. What effects do you see when changing the model parameters?\n",
    " - learning_rate\n",
    " - training_epochs\n",
    " - batch_size\n",
    " - num_hidden\n",
    " \n",
    "Try adding additional LSTM cells to the model.\n",
    " - Hint: Use a stacked cell - ```lstm_cell = rnn.MultiRNNCell( <list_of_lstm_cells> )```"
   ]
  },
  {
   "cell_type": "markdown",
   "metadata": {},
   "source": [
    "## End of RNN Notebook"
   ]
  }
 ],
 "metadata": {
  "kernelspec": {
   "display_name": "Python 3",
   "language": "python",
   "name": "python3"
  },
  "language_info": {
   "codemirror_mode": {
    "name": "ipython",
    "version": 3
   },
   "file_extension": ".py",
   "mimetype": "text/x-python",
   "name": "python",
   "nbconvert_exporter": "python",
   "pygments_lexer": "ipython3",
   "version": "3.6.5"
  }
 },
 "nbformat": 4,
 "nbformat_minor": 2
}
