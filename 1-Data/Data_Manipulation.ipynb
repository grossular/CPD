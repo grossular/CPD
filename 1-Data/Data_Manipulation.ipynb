{
 "cells": [
  {
   "cell_type": "markdown",
   "metadata": {},
   "source": [
    "# Data Manipulation\n",
    "In this section we will learn to manipulate the MNIST image dataset into a format suitable for ML.\n",
    "\n",
    "### Data Structure\n",
    "The training set contains 60000 examples, and the test set 10000 examples. The first 5000 examples of the test set are taken from the original NIST training set. The last 5000 are taken from the original NIST test set. The first 5000 are cleaner and easier than the last 5000.\n",
    "\n",
    "This data is avaliable from http://yann.lecun.com/exdb/mnist/ and is presented as gziped IDX files with the following structure.\n",
    "\n",
    "<!---\n",
    "|Images|Offset  |Type           |Value |Description       |Labels|Offset   |Type           |Value |Description       |\n",
    "|------|:------:|:-------------:|:----:|:----------------:|------|:------:|:-------------:|:----:|:----------------:|\n",
    "|      |0000    |32 bit integer |2051  |magic number      |      |0000    |32 bit integer |2049  |magic number      |\n",
    "|      |0004    |32 bit integer |60000 |number of images  |      |0004    |32 bit integer |10000 |number of items   |\n",
    "|      |0008    |32 bit integer |28    |number of rows    |      |0008    |unsigned byte  |??    |label             |\n",
    "|      |0012    |32 bit integer |28    |number of columns |      |....... |               |      |                  |\n",
    "|      |0016    |unsigned byte  |??    |pixel             |      |xxxx    |unsigned byte  |??    |label             |\n",
    "|      |....... |               |      |                  |      |\n",
    "|      |xxxx    |unsigned byte  |??    |pixel             |      |\n",
    "Image pixels are organized row-wise. Pixel values are 0 to 255. 0 means background (white), 255 means foreground (black). The labels values are 0 to 9.\n",
    "--->\n",
    "\n",
    "##### Train/Test Images\n",
    "\n",
    "|Offset  |Type           |Value |Description       |\n",
    "|:------:|:-------------:|:----:|:----------------:|\n",
    "|0000    |32 bit integer |2051  |magic number      |\n",
    "|0004    |32 bit integer |60000 |number of images  |\n",
    "|0008    |32 bit integer |28    |number of rows    |\n",
    "|0012    |32 bit integer |28    |number of columns |\n",
    "|0016    |unsigned byte  |??    |pixel             |\n",
    "|....... |               |      |                  |\n",
    "|xxxx    |unsigned byte  |??    |pixel             |\n",
    "\n",
    "Pixels are organized row-wise. Pixel values are 0 to 255. 0 means background (white), 255 means foreground (black).\n",
    "\n",
    "##### Train/Test Labels\n",
    "\n",
    "|Offset  |Type           |Value |Description       |\n",
    "|:------:|:-------------:|:----:|:----------------:|\n",
    "|0000    |32 bit integer |2049  |magic number      |\n",
    "|0004    |32 bit integer |10000 |number of items   |\n",
    "|0008    |unsigned byte  |??    |label             |\n",
    "|....... |               |      |                  |\n",
    "|xxxx    |unsigned byte  |??    |label             |\n",
    "\n",
    "The labels values are 0 to 9. "
   ]
  },
  {
   "cell_type": "markdown",
   "metadata": {},
   "source": [
    "### Code\n",
    "First of all we set up the required imports and define the location and filenames for the data."
   ]
  },
  {
   "cell_type": "code",
   "execution_count": null,
   "metadata": {},
   "outputs": [],
   "source": [
    "import gzip\n",
    "import numpy\n",
    "from tensorflow.contrib.learn.python.learn.datasets import base\n",
    "from tensorflow.python.platform import gfile\n",
    "\n",
    "TRAIN_IMAGES = 'train-images-idx3-ubyte.gz'\n",
    "TRAIN_LABELS = 'train-labels-idx1-ubyte.gz'\n",
    "TEST_IMAGES = 't10k-images-idx3-ubyte.gz'\n",
    "TEST_LABELS = 't10k-labels-idx1-ubyte.gz'\n",
    "\n",
    "source_url = 'https://storage.googleapis.com/cvdf-datasets/mnist/'\n",
    "train_dir = \"../data/\""
   ]
  },
  {
   "cell_type": "markdown",
   "metadata": {},
   "source": [
    "Define a function to read the IDX to an appropriate numpy type, reading 4 bytes per call."
   ]
  },
  {
   "cell_type": "code",
   "execution_count": null,
   "metadata": {},
   "outputs": [],
   "source": [
    "def _read32(bytestream):\n",
    "    \"\"\"\n",
    "    Args:\n",
    "    bytestream: A file object opened with a gzip reader.\n",
    "    Returns:\n",
    "    data: A 4D uint8 numpy array [index, y, x, depth].\n",
    "    \"\"\"\n",
    "    dt = numpy.dtype(numpy.uint32).newbyteorder('>')\n",
    "    data = numpy.frombuffer(bytestream.read(4), dtype=dt)[0]\n",
    "    return data"
   ]
  },
  {
   "cell_type": "markdown",
   "metadata": {},
   "source": [
    "Define a function to extract all images from the gzip and return a 4D uint8 numpy array [index, y, x, depth]."
   ]
  },
  {
   "cell_type": "code",
   "execution_count": null,
   "metadata": {},
   "outputs": [],
   "source": [
    "def extract_images(f):\n",
    "    \"\"\"\n",
    "    Args:\n",
    "    f: A file object that can be passed into a gzip reader.\n",
    "    Returns:\n",
    "    data: A 4D uint8 numpy array [index, y, x, depth].\n",
    "    Raises:\n",
    "    ValueError: If the bytestream does not start with 2051.\n",
    "    \"\"\"\n",
    "    print('Extracting', f.name)\n",
    "    with gzip.GzipFile(fileobj=f) as bytestream:\n",
    "        magic = _read32(bytestream)\n",
    "        # Check IDX magic number to ensure we have the correct data:\n",
    "        if magic != 2051:\n",
    "            raise ValueError('Invalid magic number %d in MNIST image file: %s' %\n",
    "                           (magic, f.name))\n",
    "        num_images = _read32(bytestream)\n",
    "        rows = _read32(bytestream)\n",
    "        cols = _read32(bytestream)\n",
    "        buf = bytestream.read(rows * cols * num_images)\n",
    "        data = numpy.frombuffer(buf, dtype=numpy.uint8)\n",
    "        # Convert the 1D buffer read into 4D image array\n",
    "        data = data.reshape(num_images, rows, cols, 1)\n",
    "        return data"
   ]
  },
  {
   "cell_type": "markdown",
   "metadata": {},
   "source": [
    "Define a function to extract all labels from the gzip and return a 1D uint8 numpy array."
   ]
  },
  {
   "cell_type": "code",
   "execution_count": null,
   "metadata": {},
   "outputs": [],
   "source": [
    "def extract_labels(f, one_hot=False, num_classes=10):\n",
    "    \"\"\"\n",
    "    Args:\n",
    "    f: A file object that can be passed into a gzip reader.\n",
    "    one_hot: Does one hot encoding for the result.\n",
    "    num_classes: Number of classes for the one hot encoding.\n",
    "    Returns:\n",
    "    labels: a 1D uint8 numpy array.\n",
    "    Raises:\n",
    "    ValueError: If the bystream doesn't start with 2049.\n",
    "    \"\"\"\n",
    "    print('Extracting', f.name)\n",
    "    with gzip.GzipFile(fileobj=f) as bytestream:\n",
    "        magic = _read32(bytestream)\n",
    "        # Check IDX magic number to ensure we have the correct data:\n",
    "        if magic != 2049:\n",
    "            raise ValueError('Invalid magic number %d in MNIST label file: %s' %\n",
    "                           (magic, f.name))\n",
    "        num_items = _read32(bytestream)\n",
    "        buf = bytestream.read(num_items)\n",
    "        labels = numpy.frombuffer(buf, dtype=numpy.uint8)\n",
    "        if one_hot:\n",
    "            return dense_to_one_hot(labels, num_classes)\n",
    "        return labels"
   ]
  },
  {
   "cell_type": "markdown",
   "metadata": {},
   "source": [
    "Convert class labels from scalars to one-hot encoded vectors."
   ]
  },
  {
   "cell_type": "code",
   "execution_count": null,
   "metadata": {},
   "outputs": [],
   "source": [
    "def dense_to_one_hot(labels_dense, num_classes):\n",
    "    print(\"Processing one_hot...\")\n",
    "    print(\"Original label structure (first 3):\")\n",
    "    print(labels_dense[:3])\n",
    "    num_labels = labels_dense.shape[0]\n",
    "    index_offset = numpy.arange(num_labels) * num_classes\n",
    "    labels_one_hot = numpy.zeros((num_labels, num_classes))\n",
    "    labels_one_hot.flat[index_offset + labels_dense.ravel()] = 1\n",
    "    print(\"One-hot encoded label structure (first 3):\")\n",
    "    print(labels_one_hot[:3])\n",
    "    return labels_one_hot"
   ]
  },
  {
   "cell_type": "markdown",
   "metadata": {},
   "source": [
    "Download (and extract) data from the MNIST dataset.\n",
    "\n",
    "The following calls to the base.maybe_download function downloads the data if necessary, and returns the pathnames of the resulting files."
   ]
  },
  {
   "cell_type": "code",
   "execution_count": null,
   "metadata": {},
   "outputs": [],
   "source": [
    "# Specify use of one-hot encoding\n",
    "one_hot = True\n",
    "\n",
    "train_images_file = base.maybe_download(TRAIN_IMAGES, train_dir, source_url + TRAIN_IMAGES)\n",
    "train_labels_file = base.maybe_download(TRAIN_LABELS, train_dir, source_url + TRAIN_LABELS)\n",
    "test_images_file = base.maybe_download(TEST_IMAGES, train_dir, source_url + TEST_IMAGES)\n",
    "test_labels_file = base.maybe_download(TEST_LABELS, train_dir, source_url + TEST_LABELS)\n",
    "\n",
    "\n",
    "\n",
    "with gfile.Open(train_images_file, 'rb') as f:\n",
    "    train_images = extract_images(f)\n",
    "\n",
    "with gfile.Open(train_labels_file, 'rb') as f:\n",
    "    train_labels = extract_labels(f, one_hot=one_hot)\n",
    "\n",
    "with gfile.Open(test_images_file, 'rb') as f:\n",
    "    test_images = extract_images(f)\n",
    "\n",
    "with gfile.Open(test_labels_file, 'rb') as f:\n",
    "    test_labels = extract_labels(f, one_hot=one_hot)"
   ]
  },
  {
   "cell_type": "markdown",
   "metadata": {},
   "source": [
    "## End of Data Manipulation Notebook"
   ]
  }
 ],
 "metadata": {
  "kernelspec": {
   "display_name": "Python 3",
   "language": "python",
   "name": "python3"
  },
  "language_info": {
   "codemirror_mode": {
    "name": "ipython",
    "version": 3
   },
   "file_extension": ".py",
   "mimetype": "text/x-python",
   "name": "python",
   "nbconvert_exporter": "python",
   "pygments_lexer": "ipython3",
   "version": "3.6.5"
  }
 },
 "nbformat": 4,
 "nbformat_minor": 2
}
